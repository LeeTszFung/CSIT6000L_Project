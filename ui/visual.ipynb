{
 "cells": [
  {
   "cell_type": "code",
   "execution_count": 1,
   "metadata": {},
   "outputs": [],
   "source": [
    "# !pip install pandas\n",
    "# !pip install ipywidgets\n",
    "# !jupyter nbextension enable --py widgetsnbextension\n",
    "# ! python38 -m pip install --user --force-reinstall tensorflow"
   ]
  },
  {
   "cell_type": "code",
   "execution_count": 8,
   "metadata": {},
   "outputs": [],
   "source": [
    "import pandas as pd\n",
    "import numpy\n",
    "import os\n",
    "from os import walk\n",
    "import os.path\n",
    "from os import path\n",
    "\n",
    "from IPython.display import display, Markdown, clear_output\n",
    "# widget packages\n",
    "import ipywidgets as widgets"
   ]
  },
  {
   "cell_type": "code",
   "execution_count": 4,
   "metadata": {},
   "outputs": [],
   "source": [
    "def call_morpher():\n",
    "    result = !python38 ../morpher/test/test_morpher.py\n",
    "    print(result)"
   ]
  },
  {
   "cell_type": "code",
   "execution_count": 31,
   "metadata": {},
   "outputs": [],
   "source": [
    "def get_target_img():\n",
    "    target_file = \"../morpher/test/morpher_output/\" + destination_option.value + \"_\" + destination.value.replace(\".jpg\", \"\") + \"_\" + str(slider.value) + \".jpg\"\n",
    "    if path.exists(target_file):\n",
    "        return target_file\n",
    "    return \"\"\n",
    "\n",
    "def read_img(target_file):\n",
    "    output_filenames = next(walk(\"../morpher/test/morpher_output\"), (None, None, []))[2]\n",
    "    file = open(target_file, \"rb\")\n",
    "    image = file.read()\n",
    "    return image"
   ]
  },
  {
   "cell_type": "code",
   "execution_count": 30,
   "metadata": {},
   "outputs": [],
   "source": []
  },
  {
   "cell_type": "code",
   "execution_count": 37,
   "metadata": {
    "scrolled": false
   },
   "outputs": [],
   "source": [
    "# some handy functions to use along widgets\n",
    "\n",
    "slider = widgets.FloatSlider(\n",
    "         description='Alpha:',\n",
    "         value=0.5,\n",
    "         min=0,\n",
    "         max=1.0,\n",
    "         step=0.1,)\n",
    "\n",
    "def slider_on_value_change(change):\n",
    "    # Update image\n",
    "    target_img_path = get_target_img()\n",
    "    if target_img_path!=\"\":\n",
    "        image_show.value = read_img(target_img_path)\n",
    "\n",
    "slider.observe(slider_on_value_change, names='value')\n",
    "\n",
    "dts_filenames = next(walk(\"../morpher/test/dst\"), (None, None, []))[2]\n",
    "# dts_filenames\n",
    "dts_filenames.append(\"test.jpg\")\n",
    "\n",
    "# destination image\n",
    "destination = widgets.Dropdown(\n",
    "       options=dts_filenames,\n",
    "       value=dts_filenames[0],\n",
    "       description='Destination:')\n",
    "\n",
    "def destination_img_on_change(change):\n",
    "    if change['type'] == 'change' and change['name'] == 'value':\n",
    "        # Update 'Alpha'\n",
    "        img_name = destination.value\n",
    "        param_file = current_path+\"/../morpher/test/parameters.csv\"\n",
    "        df = pd.read_csv(param_file)\n",
    "        # Update\n",
    "        df['my_dst_img'] = [img_name]\n",
    "        df = df[['percent', 'my_dst_img', 'my_src_img']]\n",
    "        df.to_csv(param_file, index=False)\n",
    "\n",
    "        # Update image\n",
    "        target_img_path = get_target_img()\n",
    "        if target_img_path!=\"\":\n",
    "            image_show.value = read_img(target_img_path)\n",
    "\n",
    "destination.observe(destination_img_on_change)\n",
    "\n",
    "# morphing_options\n",
    "morphing_options = [\"alphabg\", \"overlay\", \"poisson\"]\n",
    "destination_option = widgets.Dropdown(\n",
    "       options=morphing_options,\n",
    "       value=morphing_options[0],\n",
    "       description='Option:')\n",
    "\n",
    "def destination_option_on_change(change):\n",
    "    if change['type'] == 'change' and change['name'] == 'value':\n",
    "        # Update image\n",
    "        target_img_path = get_target_img()\n",
    "        if target_img_path!=\"\":\n",
    "            image_show.value = read_img(target_img_path)\n",
    "\n",
    "destination_option.observe(destination_option_on_change)\n",
    "\n",
    "# morphing_cmd textarea\n",
    "morphing_cmd = \"Ready.\"\n",
    "\n",
    "textarea = widgets.Textarea(\n",
    "    value=morphing_cmd,\n",
    "    placeholder='',\n",
    "    description='Status:',\n",
    "    disabled=True\n",
    ")\n",
    "\n",
    "def set_textarea(my_textarea, a_cmd):\n",
    "    # morphing_cmd textarea\n",
    "    my_textarea.value = a_cmd\n",
    "\n",
    "# button\n",
    "button = widgets.Button(\n",
    "    description='Morph',\n",
    "    disabled=False,\n",
    "    button_style='', # 'success', 'info', 'warning', 'danger' or ''\n",
    "    tooltip='Morph',\n",
    "    icon='check' # (FontAwesome names without the `fa-` prefix)\n",
    ")\n",
    "# Event\n",
    "def on_button_clicked(b):\n",
    "\n",
    "    # Update 'Alpha'\n",
    "    percentage = round(float(slider.value), 1)\n",
    "    param_file = current_path+\"/../morpher/test/parameters.csv\"\n",
    "    df = pd.read_csv(param_file)\n",
    "    # Update\n",
    "    df['percent'] = [percentage]\n",
    "    df = df[['percent', 'my_dst_img', 'my_src_img']]\n",
    "    df.to_csv(param_file, index=False)\n",
    "    \n",
    "    # Call \n",
    "    set_textarea(textarea, \"Running...\")\n",
    "#     call_morpher()\n",
    "    set_textarea(textarea, \"Finshed.\")\n",
    "\n",
    "button.on_click(on_button_clicked)\n",
    "\n",
    "# Image\n",
    "\n",
    "inital_img = None\n",
    "target_img_path = get_target_img()\n",
    "if target_img_path!=\"\":\n",
    "    inital_img = read_img(target_img_path)\n",
    "    \n",
    "image_show = widgets.Image(\n",
    "    value=inital_img,\n",
    "    format='png',\n",
    "    width=500,\n",
    "    height=600,\n",
    ")\n",
    "\n",
    "# box1 = widgets.VBox([slider, destination, destination_option, button])\n",
    "# box1"
   ]
  },
  {
   "cell_type": "code",
   "execution_count": null,
   "metadata": {},
   "outputs": [],
   "source": []
  },
  {
   "cell_type": "code",
   "execution_count": 38,
   "metadata": {},
   "outputs": [
    {
     "data": {
      "application/vnd.jupyter.widget-view+json": {
       "model_id": "6faae67115e04beaad67258946507945",
       "version_major": 2,
       "version_minor": 0
      },
      "text/plain": [
       "VBox(children=(FloatSlider(value=0.5, description='Alpha:', max=1.0), Dropdown(description='Destination:', opt…"
      ]
     },
     "metadata": {},
     "output_type": "display_data"
    }
   ],
   "source": [
    "box1 = widgets.VBox([slider, destination, destination_option, textarea, button, image_show])\n",
    "box1"
   ]
  },
  {
   "cell_type": "code",
   "execution_count": null,
   "metadata": {},
   "outputs": [],
   "source": []
  }
 ],
 "metadata": {
  "kernelspec": {
   "display_name": "Python 3 (ipykernel)",
   "language": "python",
   "name": "python3"
  },
  "language_info": {
   "codemirror_mode": {
    "name": "ipython",
    "version": 3
   },
   "file_extension": ".py",
   "mimetype": "text/x-python",
   "name": "python",
   "nbconvert_exporter": "python",
   "pygments_lexer": "ipython3",
   "version": "3.9.13"
  },
  "vscode": {
   "interpreter": {
    "hash": "7b1f2b33e866b0bf2409397e5f58ba9cdf170d3b7f64c8f359c79998e2f88ad4"
   }
  }
 },
 "nbformat": 4,
 "nbformat_minor": 2
}
