{
 "cells": [
  {
   "cell_type": "code",
   "execution_count": 1,
   "id": "a5af4f16",
   "metadata": {},
   "outputs": [],
   "source": [
    "%run visual.ipynb"
   ]
  },
  {
   "cell_type": "code",
   "execution_count": 2,
   "id": "f68d0ba0",
   "metadata": {
    "scrolled": false
   },
   "outputs": [
    {
     "data": {
      "application/vnd.jupyter.widget-view+json": {
       "model_id": "b170df28da674bcfb778d20c19141d92",
       "version_major": 2,
       "version_minor": 0
      },
      "text/plain": [
       "VBox(children=(FloatSlider(value=0.5, description='Alpha:', max=0.9, min=0.1), Dropdown(description='Destinati…"
      ]
     },
     "metadata": {},
     "output_type": "display_data"
    },
    {
     "name": "stdout",
     "output_type": "stream",
     "text": [
      "[\"0.5dst.jpg['female.jpg']\", 'Generating percent: 0.0', 'Generating percent: 0.1', 'Generating percent: 0.2', 'Generating percent: 0.3', 'Generating percent: 0.4', 'Generating percent: 0.5', 'Generating percent: 0.6', 'Generating percent: 0.7', 'Generating percent: 0.8', 'Generating percent: 0.9', 'Generating percent: 1.0', 'Writing done.']\n"
     ]
    }
   ],
   "source": [
    "if image_show == None:\n",
    "    box = widgets.VBox([slider, destination, destination_option, textarea, button, hBox])\n",
    "else:\n",
    "    box = widgets.VBox([slider, destination, destination_option, textarea, button, hBox, image_show])\n",
    "box"
   ]
  },
  {
   "cell_type": "code",
   "execution_count": null,
   "id": "447199b0",
   "metadata": {},
   "outputs": [],
   "source": []
  }
 ],
 "metadata": {
  "kernelspec": {
   "display_name": "Python 3 (ipykernel)",
   "language": "python",
   "name": "python3"
  },
  "language_info": {
   "codemirror_mode": {
    "name": "ipython",
    "version": 3
   },
   "file_extension": ".py",
   "mimetype": "text/x-python",
   "name": "python",
   "nbconvert_exporter": "python",
   "pygments_lexer": "ipython3",
   "version": "3.9.13"
  }
 },
 "nbformat": 4,
 "nbformat_minor": 5
}
